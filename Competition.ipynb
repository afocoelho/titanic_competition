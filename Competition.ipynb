{
 "cells": [
  {
   "cell_type": "markdown",
   "metadata": {
    "id": "yT7uQ1OzZZFn"
   },
   "source": [
    "# Competition"
   ]
  },
  {
   "cell_type": "code",
   "execution_count": null,
   "metadata": {},
   "outputs": [],
   "source": []
  },
  {
   "cell_type": "markdown",
   "metadata": {
    "id": "6wQA460mZZFp"
   },
   "source": [
    "## Titanic "
   ]
  },
  {
   "cell_type": "code",
   "execution_count": null,
   "metadata": {
    "id": "suuWAmLQZZFp"
   },
   "outputs": [],
   "source": [
    "import numpy as np\n",
    "import pandas as pd\n",
    "import matplotlib.pyplot as plt\n",
    "import os\n",
    "import seaborn as sns\n",
    "import warnings\n",
    "from sklearn.model_selection import train_test_split,GridSearchCV\n",
    "from sklearn.neighbors import KNeighborsClassifier\n",
    "from sklearn import metrics, preprocessing\n",
    "warnings.filterwarnings(action='ignore')                  # Turn off the warnings.\n",
    "%matplotlib inline"
   ]
  },
  {
   "cell_type": "markdown",
   "metadata": {
    "id": "tNdejYP3ZZFq"
   },
   "source": [
    "#### 1.1. Read in data:"
   ]
  },
  {
   "cell_type": "markdown",
   "metadata": {
    "id": "7u6qU7KvZZFq"
   },
   "source": [
    "The data and explanation can be found [here](https://www.kaggle.com/c/titanic/data) (requires sign in)."
   ]
  },
  {
   "cell_type": "code",
   "execution_count": null,
   "metadata": {
    "id": "fDb2gNM4ZZFq"
   },
   "outputs": [],
   "source": [
    "!wget --no-clobber ??"
   ]
  },
  {
   "cell_type": "code",
   "execution_count": null,
   "metadata": {
    "id": "j2A6KWScZZFq"
   },
   "outputs": [],
   "source": [
    "df = pd.read_csv('data_titanic.csv', header='infer')"
   ]
  },
  {
   "cell_type": "code",
   "execution_count": null,
   "metadata": {
    "id": "I3vv1r9WZZFr"
   },
   "outputs": [],
   "source": [
    "df.shape"
   ]
  },
  {
   "cell_type": "code",
   "execution_count": null,
   "metadata": {
    "id": "FKsPehNlZZFr"
   },
   "outputs": [],
   "source": [
    "df.head(3)"
   ]
  },
  {
   "cell_type": "markdown",
   "metadata": {
    "id": "OnPDlztfZZFr"
   },
   "source": [
    "#### 1.2. Missing value processing: "
   ]
  },
  {
   "cell_type": "code",
   "execution_count": null,
   "metadata": {
    "id": "HJPb0Y4kZZFr"
   },
   "outputs": [],
   "source": [
    "# Check for the missing values.\n",
    "df.isnull().sum(axis=0)"
   ]
  },
  {
   "cell_type": "code",
   "execution_count": null,
   "metadata": {
    "id": "qfP7_xAiZZFr"
   },
   "outputs": [],
   "source": [
    "# Fill the missing values in the Age variable.\n",
    "n = df.shape[0]\n",
    "Age = []                                                               # A temporary list.\n",
    "for i in range(n):\n",
    "    if np.isnan(df.Age[i]):\n",
    "        if ('Mr' in df.Name[i]) or ('Mrs' in df.Name[i]) :\n",
    "            Age.append(30)                                             # If Mr. or Mrs. in the name, then fill with 30.\n",
    "        else:\n",
    "            Age.append(10)                                             # Likely a child. So, fill with 10.\n",
    "    else:\n",
    "        Age.append(df.Age[i])\n",
    "df.Age = pd.Series(Age)"
   ]
  },
  {
   "cell_type": "code",
   "execution_count": null,
   "metadata": {
    "id": "6IiIDi0bZZFs"
   },
   "outputs": [],
   "source": [
    "# We will drop some columns.\n",
    "df = df.drop(columns = ['PassengerId','Name','Ticket','Fare','Cabin'])\n",
    "df.head(3)"
   ]
  },
  {
   "cell_type": "code",
   "execution_count": null,
   "metadata": {
    "id": "0sq6Cj0WZZFs"
   },
   "outputs": [],
   "source": [
    "# Delete the rest of missing values.\n",
    "df=df.dropna(axis=0)\n",
    "df.shape"
   ]
  },
  {
   "cell_type": "code",
   "execution_count": null,
   "metadata": {
    "id": "YNTuOha6ZZFs"
   },
   "outputs": [],
   "source": [
    "df.shape"
   ]
  },
  {
   "cell_type": "markdown",
   "metadata": {
    "id": "Cn79gYUHZZFs"
   },
   "source": [
    "#### 1.3. Exploratory data analysis:"
   ]
  },
  {
   "cell_type": "code",
   "execution_count": null,
   "metadata": {
    "id": "RBZ8IpDSZZFs"
   },
   "outputs": [],
   "source": [
    "# The frequency table of Survived.\n",
    "sns.countplot('Survived',data=df)\n",
    "plt.show()"
   ]
  },
  {
   "cell_type": "code",
   "execution_count": null,
   "metadata": {
    "id": "3U5goa3nZZFs"
   },
   "outputs": [],
   "source": [
    "# Survival rate by Age category. \n",
    "df['AgeCategory'] = pd.qcut(df.Age,4)                   # Using quantiles cut into 4 intervals.\n",
    "sns.barplot(x='AgeCategory',y='Survived', ci=None, data=df)\n",
    "plt.show()"
   ]
  },
  {
   "cell_type": "code",
   "execution_count": null,
   "metadata": {
    "id": "ZN_zqF9eZZFs"
   },
   "outputs": [],
   "source": [
    "# Survival rate by SibSp category. \n",
    "sns.barplot(x='SibSp', y='Survived', ci=None, data=df)\n",
    "plt.show()"
   ]
  },
  {
   "cell_type": "code",
   "execution_count": null,
   "metadata": {
    "id": "agV4qaGDZZFt"
   },
   "outputs": [],
   "source": [
    "# Survival rate by Parch.\n",
    "sns.barplot(x='Parch', y='Survived', ci=None, data=df)\n",
    "plt.show()"
   ]
  },
  {
   "cell_type": "code",
   "execution_count": null,
   "metadata": {
    "id": "yI7NlFs4ZZFt"
   },
   "outputs": [],
   "source": [
    "# Survival rate by Pclass.\n",
    "sns.barplot(x='Pclass', y='Survived', ci=None, data=df)\n",
    "plt.show()"
   ]
  },
  {
   "cell_type": "code",
   "execution_count": null,
   "metadata": {
    "id": "JUs6BNqJZZFt"
   },
   "outputs": [],
   "source": [
    "# Survival rate by Embarked.\n",
    "sns.barplot(x='Embarked', y='Survived', ci=None, data=df)\n",
    "plt.show()"
   ]
  },
  {
   "cell_type": "code",
   "execution_count": null,
   "metadata": {
    "id": "sWny6koeZZFt"
   },
   "outputs": [],
   "source": [
    "# Survival rate by Sex.\n",
    "sns.barplot(x='Sex', y='Survived', ci=None,  data=df)\n",
    "plt.show()"
   ]
  },
  {
   "cell_type": "markdown",
   "metadata": {
    "id": "4kmZyW6kZZFt"
   },
   "source": [
    "#### 1.4. Feature engineering:"
   ]
  },
  {
   "cell_type": "code",
   "execution_count": null,
   "metadata": {
    "id": "kvLBfw_kZZFt"
   },
   "outputs": [],
   "source": [
    "# Convert into dummy variables and then remove the original variables.\n",
    "df = pd.get_dummies(df.AgeCategory, drop_first=True,prefix='Age').join(df.drop(columns=['Age','AgeCategory']))\n",
    "df = pd.get_dummies(df.Pclass, drop_first=True,prefix='Pclass').join(df.drop(columns=['Pclass']))\n",
    "df = pd.get_dummies(df.SibSp, drop_first=True,prefix='SibSp').join(df.drop(columns=['SibSp']))\n",
    "df = pd.get_dummies(df.Parch, drop_first=True,prefix='Parch').join(df.drop(columns=['Parch']))\n",
    "df = pd.get_dummies(df.Sex, drop_first=True,prefix='Sex').join(df.drop(columns=['Sex']))\n",
    "df = pd.get_dummies(df.Embarked, drop_first=True,prefix='Embarked').join(df.drop(columns=['Embarked']))\n",
    "df.head(5)"
   ]
  },
  {
   "cell_type": "code",
   "execution_count": null,
   "metadata": {
    "id": "Gj7XilkKZZFt"
   },
   "outputs": [],
   "source": [
    "# Save to an external file.\n",
    "df.to_csv('data_titanic_2.csv',index=False)"
   ]
  },
  {
   "cell_type": "markdown",
   "metadata": {
    "id": "muFHVn1KZZFt"
   },
   "source": [
    "#### 1.5. KNN train and test:"
   ]
  },
  {
   "cell_type": "code",
   "execution_count": null,
   "metadata": {
    "id": "Oah8p-VuZZFt"
   },
   "outputs": [],
   "source": [
    "X = df.drop(columns=['Survived'])\n",
    "Y = df.Survived"
   ]
  },
  {
   "cell_type": "code",
   "execution_count": null,
   "metadata": {
    "id": "k9m2TejBZZFt"
   },
   "outputs": [],
   "source": [
    "X_train, X_test, Y_train, Y_test = train_test_split(X, Y, test_size=0.3, random_state=1234)"
   ]
  },
  {
   "cell_type": "code",
   "execution_count": null,
   "metadata": {
    "id": "0iLWE9AhZZFt"
   },
   "outputs": [],
   "source": [
    "print(X_train.shape)\n",
    "print(X_test.shape)\n",
    "print(Y_train.shape)\n",
    "print(Y_test.shape)"
   ]
  },
  {
   "cell_type": "code",
   "execution_count": null,
   "metadata": {
    "id": "gQ0lR92xZZFt"
   },
   "outputs": [],
   "source": [
    "# KNN with n_neighbours = 5\n",
    "knn5 = KNeighborsClassifier(n_neighbors=5)\n",
    "knn5.fit(X_train, Y_train);\n",
    "Y_pred = knn5.predict(X_test)\n",
    "print(metrics.confusion_matrix(Y_test,Y_pred))\n",
    "print(\"------------------------\")\n",
    "print( \"Accuracy : \" + str(np.round(metrics.accuracy_score(Y_test,Y_pred),3)))"
   ]
  },
  {
   "cell_type": "code",
   "execution_count": null,
   "metadata": {
    "id": "IEg33Z2mZZFt"
   },
   "outputs": [],
   "source": [
    "# KNN with n_neighbours = 100\n",
    "knn100 = KNeighborsClassifier(n_neighbors=100)\n",
    "knn100.fit(X_train, Y_train);\n",
    "Y_pred = knn100.predict(X_test)\n",
    "print(metrics.confusion_matrix(Y_test,Y_pred))\n",
    "print(\"------------------------\")\n",
    "print( \"Accuracy : \" + str(np.round(metrics.accuracy_score(Y_test,Y_pred),3)))"
   ]
  },
  {
   "cell_type": "markdown",
   "metadata": {
    "id": "3IfwDXWdZZFt"
   },
   "source": [
    "#### 1.6. KNN bias-Variance tradeoff as function of *k*: "
   ]
  },
  {
   "cell_type": "code",
   "execution_count": null,
   "metadata": {
    "id": "M13yALckZZFu"
   },
   "outputs": [],
   "source": [
    "accs = []\n",
    "k_grid = range(1,100,1)\n",
    "for k in k_grid:\n",
    "    knn = KNeighborsClassifier(n_neighbors=k)\n",
    "    knn.fit(X_train, Y_train)\n",
    "    Y_pred = knn.predict(X_test)\n",
    "    accs.append(metrics.accuracy_score(Y_test,Y_pred))"
   ]
  },
  {
   "cell_type": "code",
   "execution_count": null,
   "metadata": {
    "id": "4aF9rjTOZZFu"
   },
   "outputs": [],
   "source": [
    "# Visualize.\n",
    "plt.scatter(k_grid,accs,c='red',marker='o',s=10,alpha=0.6)\n",
    "plt.xlabel('k')\n",
    "plt.ylabel('Accuracy')\n",
    "plt.title('Accuracy vs k')\n",
    "plt.show()"
   ]
  },
  {
   "cell_type": "markdown",
   "metadata": {
    "id": "sebtDla0ZZFu"
   },
   "source": [
    "#### 1.7. KNN hyperparameter optimization:"
   ]
  },
  {
   "cell_type": "code",
   "execution_count": null,
   "metadata": {
    "id": "qziwAgPBZZFu"
   },
   "outputs": [],
   "source": [
    "# Parameter grid.\n",
    "k_grid = np.arange(1,51,1)\n",
    "parameters = {'n_neighbors':k_grid}"
   ]
  },
  {
   "cell_type": "code",
   "execution_count": null,
   "metadata": {
    "id": "-pUhyT4uZZFu"
   },
   "outputs": [],
   "source": [
    "# Optimize the k.\n",
    "gridCV = GridSearchCV(KNeighborsClassifier(), parameters, cv=10, n_jobs = -1)       # \"n_jobs = -1\" means \"use all the CPU cores\".\n",
    "gridCV.fit(X_train, Y_train)\n",
    "best_k = gridCV.best_params_['n_neighbors']\n",
    "print(\"Best k : \" + str(best_k))"
   ]
  },
  {
   "cell_type": "code",
   "execution_count": null,
   "metadata": {
    "id": "Tg1dj62jZZFu"
   },
   "outputs": [],
   "source": [
    "# Test with the best k.\n",
    "KNN_best = KNeighborsClassifier(n_neighbors=best_k)\n",
    "KNN_best.fit(X_train, Y_train)\n",
    "Y_pred = KNN_best.predict(X_test)\n",
    "print( \"Best Accuracy : \" + str(np.round(metrics.accuracy_score(Y_test,Y_pred),3)))"
   ]
  },
  {
   "cell_type": "code",
   "execution_count": null,
   "metadata": {
    "id": "BhCBQxx6ZZFu"
   },
   "outputs": [],
   "source": []
  }
 ],
 "metadata": {
  "colab": {
   "provenance": []
  },
  "kernelspec": {
   "display_name": "Python 3 (ipykernel)",
   "language": "python",
   "name": "python3"
  },
  "language_info": {
   "codemirror_mode": {
    "name": "ipython",
    "version": 3
   },
   "file_extension": ".py",
   "mimetype": "text/x-python",
   "name": "python",
   "nbconvert_exporter": "python",
   "pygments_lexer": "ipython3",
   "version": "3.9.12"
  }
 },
 "nbformat": 4,
 "nbformat_minor": 1
}
