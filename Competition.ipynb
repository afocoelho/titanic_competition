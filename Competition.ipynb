{
 "cells": [
  {
   "cell_type": "markdown",
   "metadata": {
    "id": "yT7uQ1OzZZFn"
   },
   "source": [
    "# Competition"
   ]
  },
  {
   "cell_type": "markdown",
   "metadata": {},
   "source": [
    "<img src=\"https://raw.githubusercontent.com/afocoelho/titanic_competition/main/img/titanic-sinks-the-lobsters-in-the-kitchen.png\"  >"
   ]
  },
  {
   "cell_type": "markdown",
   "metadata": {
    "id": "6wQA460mZZFp"
   },
   "source": [
    "## Titanic "
   ]
  },
  {
   "cell_type": "markdown",
   "metadata": {},
   "source": [
    "## Schedule\n",
    " - Treat missing values (15 min)\n",
    " - Exploratory Data Analysis ( 30 min ) ( generate between 1 and 3 graphs that you think are important ) \n",
    " - Feature engineering ( 30 min ) \n",
    " - Modeling (45 min)\n",
    " - Extra (15 min to prepare presentation)\n"
   ]
  },
  {
   "cell_type": "code",
   "execution_count": 2,
   "metadata": {
    "id": "suuWAmLQZZFp"
   },
   "outputs": [],
   "source": [
    "import numpy as np\n",
    "import pandas as pd\n",
    "import matplotlib.pyplot as plt\n",
    "import seaborn as sns\n",
    "import os\n",
    "import warnings\n",
    "from sklearn.model_selection import train_test_split, GridSearchCV\n",
    "\n",
    "from sklearn.linear_model import LogisticRegression\n",
    "from sklearn.neighbors import KNeighborsClassifier\n",
    "from sklearn.tree import DecisionTreeClassifier\n",
    "from sklearn.ensemble import RandomForestClassifier,AdaBoostClassifier, GradientBoostingClassifier\n",
    "from sklearn import metrics, preprocessing\n",
    "warnings.filterwarnings(action='ignore')                  # Turn off the warnings.\n",
    "%matplotlib inline"
   ]
  },
  {
   "cell_type": "markdown",
   "metadata": {
    "id": "tNdejYP3ZZFq"
   },
   "source": [
    "#### 1.1. Read in data:"
   ]
  },
  {
   "cell_type": "markdown",
   "metadata": {
    "id": "7u6qU7KvZZFq"
   },
   "source": [
    "The data and explanation can be found [here](https://www.kaggle.com/c/titanic/data) (requires sign in)."
   ]
  },
  {
   "cell_type": "code",
   "execution_count": null,
   "metadata": {
    "id": "fDb2gNM4ZZFq"
   },
   "outputs": [],
   "source": [
    "!wget --no-clobber https://raw.githubusercontent.com/afocoelho/titanic_competition/main/data/data_titanic.csv"
   ]
  },
  {
   "cell_type": "code",
   "execution_count": null,
   "metadata": {
    "id": "j2A6KWScZZFq"
   },
   "outputs": [],
   "source": [
    "df = pd.read_csv('data_titanic.csv', header='infer')"
   ]
  },
  {
   "cell_type": "code",
   "execution_count": null,
   "metadata": {
    "id": "I3vv1r9WZZFr"
   },
   "outputs": [],
   "source": [
    "df.shape"
   ]
  },
  {
   "cell_type": "code",
   "execution_count": null,
   "metadata": {
    "id": "FKsPehNlZZFr"
   },
   "outputs": [],
   "source": [
    "df.head(3)"
   ]
  },
  {
   "cell_type": "markdown",
   "metadata": {
    "id": "OnPDlztfZZFr"
   },
   "source": [
    "#### 1.2. Missing value processing: "
   ]
  },
  {
   "cell_type": "code",
   "execution_count": null,
   "metadata": {
    "id": "HJPb0Y4kZZFr"
   },
   "outputs": [],
   "source": [
    "# Check for the missing values.\n",
    "df.isnull().sum(axis=0)"
   ]
  },
  {
   "cell_type": "code",
   "execution_count": null,
   "metadata": {},
   "outputs": [],
   "source": [
    "np.random.uniform(low=30, high=60)"
   ]
  },
  {
   "cell_type": "code",
   "execution_count": null,
   "metadata": {},
   "outputs": [],
   "source": [
    "30+np.random.rand()*30"
   ]
  },
  {
   "cell_type": "code",
   "execution_count": null,
   "metadata": {
    "id": "qfP7_xAiZZFr"
   },
   "outputs": [],
   "source": [
    "# Fill the missing values in the Age variable.\n",
    "n = df.shape[0]\n",
    "Age = []                                                               # A temporary list.\n",
    "for i in range(n):\n",
    "    if np.isnan(df.Age[i]):\n",
    "        if ('Mr' in df.Name[i]) or ('Mrs' in df.Name[i]) :\n",
    "            Age.append(np.random.uniform(low=30, high=60))                                             # If Mr. or Mrs. in the name, then fill with 30.\n",
    "        else:\n",
    "            Age.append(np.random.uniform(low=5, high=20))                                             # Likely a child. So, fill with 10.\n",
    "    else:\n",
    "        Age.append(df.Age[i])\n",
    "df.Age = pd.Series(Age)"
   ]
  },
  {
   "cell_type": "code",
   "execution_count": null,
   "metadata": {
    "id": "6IiIDi0bZZFs"
   },
   "outputs": [],
   "source": [
    "# drop the columns you dont want to use now. Please do not consider treating all the columns you dont have time for that\n"
   ]
  },
  {
   "cell_type": "code",
   "execution_count": null,
   "metadata": {
    "id": "0sq6Cj0WZZFs"
   },
   "outputs": [],
   "source": [
    "# verify missing values and delete or correct the rest of missing values"
   ]
  },
  {
   "cell_type": "code",
   "execution_count": null,
   "metadata": {},
   "outputs": [],
   "source": []
  },
  {
   "cell_type": "markdown",
   "metadata": {
    "id": "Cn79gYUHZZFs"
   },
   "source": [
    "#### 1.3. Exploratory data analysis:"
   ]
  },
  {
   "cell_type": "code",
   "execution_count": null,
   "metadata": {},
   "outputs": [],
   "source": [
    "# Do some amazing graphs\n",
    "sns.barplot(x='???', y='???', ci=None,  data=df)\n",
    "plt.show()"
   ]
  },
  {
   "cell_type": "code",
   "execution_count": null,
   "metadata": {},
   "outputs": [],
   "source": []
  },
  {
   "cell_type": "markdown",
   "metadata": {
    "id": "4kmZyW6kZZFt"
   },
   "source": [
    "#### 1.4. Feature engineering:"
   ]
  },
  {
   "cell_type": "code",
   "execution_count": null,
   "metadata": {
    "id": "kvLBfw_kZZFt"
   },
   "outputs": [],
   "source": [
    "# One hot enconding -  Convert into dummy variables and then remove the original variables.\n",
    "# example for pclass\n",
    "df = pd.get_dummies(df.Pclass, drop_first=True,prefix='Pclass').join(df.drop(columns=['Pclass']))\n"
   ]
  },
  {
   "cell_type": "code",
   "execution_count": null,
   "metadata": {
    "id": "Gj7XilkKZZFt"
   },
   "outputs": [],
   "source": [
    "## Save to an external file.\n",
    "#df.to_csv('data_titanic_2.csv',index=False)"
   ]
  },
  {
   "cell_type": "code",
   "execution_count": null,
   "metadata": {},
   "outputs": [],
   "source": [
    "# Save your treated data just in case\n",
    "df.to_csv('treated_titanic_data.csv',index=False)"
   ]
  },
  {
   "cell_type": "markdown",
   "metadata": {
    "id": "muFHVn1KZZFt"
   },
   "source": [
    "#### 1.5. Create a train and test set:"
   ]
  },
  {
   "cell_type": "code",
   "execution_count": null,
   "metadata": {
    "id": "Oah8p-VuZZFt"
   },
   "outputs": [],
   "source": [
    "X = df.drop(columns=['Survived'])\n",
    "Y = df.Survived"
   ]
  },
  {
   "cell_type": "code",
   "execution_count": null,
   "metadata": {
    "id": "k9m2TejBZZFt"
   },
   "outputs": [],
   "source": [
    "X_train, X_test, Y_train, Y_test = train_test_split(X, Y, test_size=0.3, random_state=1234)"
   ]
  },
  {
   "cell_type": "code",
   "execution_count": null,
   "metadata": {
    "id": "0iLWE9AhZZFt"
   },
   "outputs": [],
   "source": [
    "print(X_train.shape)\n",
    "print(X_test.shape)\n",
    "print(Y_train.shape)\n",
    "print(Y_test.shape)"
   ]
  },
  {
   "cell_type": "code",
   "execution_count": null,
   "metadata": {},
   "outputs": [],
   "source": [
    "## Use a simple algorithm as a baseline WITHOUT any grid search"
   ]
  },
  {
   "cell_type": "code",
   "execution_count": null,
   "metadata": {},
   "outputs": [],
   "source": [
    "## Evaluate\n",
    "metrics.accuracy_score(y_test,y_pred)"
   ]
  },
  {
   "cell_type": "code",
   "execution_count": null,
   "metadata": {
    "id": "3IfwDXWdZZFt"
   },
   "outputs": [],
   "source": [
    "## Try a new algorithm that you think it is suitable for the use case and conduct a grid search"
   ]
  },
  {
   "cell_type": "code",
   "execution_count": null,
   "metadata": {
    "id": "M13yALckZZFu"
   },
   "outputs": [],
   "source": [
    "accs = []\n",
    "k_grid = range(1,100,1)\n",
    "for k in k_grid:\n",
    "    knn = KNeighborsClassifier(n_neighbors=k)\n",
    "    knn.fit(X_train, Y_train)\n",
    "    Y_pred = knn.predict(X_test)\n",
    "    accs.append(metrics.accuracy_score(Y_test,Y_pred))"
   ]
  },
  {
   "cell_type": "code",
   "execution_count": null,
   "metadata": {},
   "outputs": [],
   "source": [
    "# define your  grid.\n",
    "parameter_you_want_to_try = np.arange(1,51,1) # range of values that you want to try\n",
    "parameters = {'n_neighbors':k_grid}"
   ]
  },
  {
   "cell_type": "code",
   "execution_count": null,
   "metadata": {},
   "outputs": [],
   "source": [
    "# define your  grid.\n",
    "# Use small grid you dont have a lot of time\n",
    "parameter_you_want_to_try = np.arange(1,51,1) # range of values that you want to try\n",
    "parameters = {'n_neighbors':k_grid}\n",
    "\n",
    "# Optimize the parameters.\n",
    "gridCV = GridSearchCV(\"<< put the algorithm object here>> \", parameters, cv=5, n_jobs = -1)  # use your cv carefully you dont have a lot of time  ##scoring='accuracy')   # \"n_jobs = -1\" means \"use all the CPU cores\".\n",
    "gridCV.fit(X_train, Y_train)\n",
    "best_k = gridCV.best_params_['n_neighbors']\n",
    "\n",
    "\n",
    "# Get the best para meters\n",
    "print(\"Best k : \" + str(best_k))"
   ]
  },
  {
   "cell_type": "code",
   "execution_count": null,
   "metadata": {
    "id": "4aF9rjTOZZFu"
   },
   "outputs": [],
   "source": [
    "## train the best algorithm with the best parameters and do any extra analysis you think it might be important"
   ]
  },
  {
   "cell_type": "code",
   "execution_count": null,
   "metadata": {},
   "outputs": [],
   "source": [
    "## Evaluate your best algorithm\n",
    "metrics.accuracy_score(y_test,y_pred)"
   ]
  },
  {
   "cell_type": "markdown",
   "metadata": {
    "id": "BhCBQxx6ZZFu"
   },
   "source": [
    "<img src=\"https://raw.githubusercontent.com/afocoelho/titanic_competition/main/img/titanic-sinks-the-lobsters-in-the-kitchen.png\"  >"
   ]
  }
 ],
 "metadata": {
  "colab": {
   "provenance": []
  },
  "kernelspec": {
   "display_name": "Python 3 (ipykernel)",
   "language": "python",
   "name": "python3"
  },
  "language_info": {
   "codemirror_mode": {
    "name": "ipython",
    "version": 3
   },
   "file_extension": ".py",
   "mimetype": "text/x-python",
   "name": "python",
   "nbconvert_exporter": "python",
   "pygments_lexer": "ipython3",
   "version": "3.9.12"
  }
 },
 "nbformat": 4,
 "nbformat_minor": 1
}
